{
 "cells": [
  {
   "cell_type": "markdown",
   "metadata": {},
   "source": [
    "**Desafio do Reprograma** "
   ]
  },
  {
   "cell_type": "code",
   "execution_count": 1,
   "metadata": {},
   "outputs": [
    {
     "name": "stdout",
     "output_type": "stream",
     "text": [
      "20991.34\n"
     ]
    }
   ],
   "source": [
    "# Vendas do almoço e janta\n",
    "\n",
    "vendas_almoco= 13360.20\n",
    "vendas_janta= 7631.14\n",
    "\n",
    "receita_total= vendas_almoco + vendas_janta\n",
    "print(receita_total)"
   ]
  },
  {
   "cell_type": "code",
   "execution_count": 2,
   "metadata": {},
   "outputs": [
    {
     "name": "stdout",
     "output_type": "stream",
     "text": [
      "Meta de receita alcançada\n"
     ]
    }
   ],
   "source": [
    "# Meta da receita\n",
    "\n",
    "if receita_total >= 8000:\n",
    "  print(\"Meta de receita alcançada\")\n",
    "else:\n",
    "  print(\"Meta de receita não alcançada\")"
   ]
  },
  {
   "cell_type": "code",
   "execution_count": 5,
   "metadata": {},
   "outputs": [
    {
     "name": "stdout",
     "output_type": "stream",
     "text": [
      "False\n",
      "True\n",
      "Não cumpriu o tempo prometido de entrega de bebidas\n",
      "Cumpriu o tempo prometido de entrega das sobremesas\n"
     ]
    }
   ],
   "source": [
    "#Tempo real e prometido das bebidas e comidas\n",
    "tempo_prometido_bebidas= 30\n",
    "tempo_real_bebidas= 35\n",
    "tempo_prometido_sobremesas= 45\n",
    "tempo_real_sobremesas= 40\n",
    "\n",
    "# Entrega no prazo prometido está correta\n",
    "\n",
    "entrega_no_prazo_bebidas = tempo_prometido_bebidas >= tempo_real_bebidas\n",
    "print(entrega_no_prazo_bebidas)\n",
    "entrega_no_prazo_sobremesas = tempo_prometido_sobremesas >= tempo_real_sobremesas\n",
    "print(entrega_no_prazo_sobremesas)\n",
    "\n",
    "\n",
    "if entrega_no_prazo_bebidas == True:\n",
    "  print(\"Cumpriu o tempo prometido de entrega de bebidas\")\n",
    "else:\n",
    "  print(\"Não cumpriu o tempo prometido de entrega de bebidas\")\n",
    "\n",
    "if entrega_no_prazo_sobremesas == True:\n",
    "  print(\"Cumpriu o tempo prometido de entrega das sobremesas\")\n",
    "else:\n",
    "  print(\"Não cumpriu o tempo prometido de entrega das sobremesas\")"
   ]
  }
 ],
 "metadata": {
  "kernelspec": {
   "display_name": "Python 3",
   "language": "python",
   "name": "python3"
  },
  "language_info": {
   "codemirror_mode": {
    "name": "ipython",
    "version": 3
   },
   "file_extension": ".py",
   "mimetype": "text/x-python",
   "name": "python",
   "nbconvert_exporter": "python",
   "pygments_lexer": "ipython3",
   "version": "3.8.10"
  }
 },
 "nbformat": 4,
 "nbformat_minor": 2
}
